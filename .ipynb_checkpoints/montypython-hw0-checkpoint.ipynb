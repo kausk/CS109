{
 "metadata": {
  "name": "",
  "signature": "sha256:d1ac3ff368fe20efc81c737f8ac4dd02c318b57ad703587855a13a980437eb0d"
 },
 "nbformat": 3,
 "nbformat_minor": 0,
 "worksheets": [
  {
   "cells": [
    {
     "cell_type": "code",
     "collapsed": false,
     "input": [
      "import numpy as np\n",
      "from numpy import random\n",
      "import random\n",
      "from __future__ import division\n",
      "import matplotlib.pyplot as plt\n",
      "%matplotlib inline\n",
      "import seaborn as sns"
     ],
     "language": "python",
     "metadata": {},
     "outputs": [],
     "prompt_number": 356
    },
    {
     "cell_type": "code",
     "collapsed": false,
     "input": [
      "def simulate_prizedoor(nsim):\n",
      "    sims = np.random.random_integers(0,2,nsim)\n",
      "    return sims"
     ],
     "language": "python",
     "metadata": {},
     "outputs": [],
     "prompt_number": 296
    },
    {
     "cell_type": "code",
     "collapsed": false,
     "input": [
      "print simulate_prizedoor(5)"
     ],
     "language": "python",
     "metadata": {},
     "outputs": [
      {
       "output_type": "stream",
       "stream": "stdout",
       "text": [
        "[0 1 2 0 2]\n"
       ]
      }
     ],
     "prompt_number": 297
    },
    {
     "cell_type": "code",
     "collapsed": false,
     "input": [
      "def simulate_guesses(nsim):\n",
      "    guesses = np.random.random_integers(0,2,nsim)\n",
      "    return guesses"
     ],
     "language": "python",
     "metadata": {},
     "outputs": [],
     "prompt_number": 298
    },
    {
     "cell_type": "code",
     "collapsed": false,
     "input": [
      "print simulate_guesses(5)"
     ],
     "language": "python",
     "metadata": {},
     "outputs": [
      {
       "output_type": "stream",
       "stream": "stdout",
       "text": [
        "[2 2 2 2 0]\n"
       ]
      }
     ],
     "prompt_number": 299
    },
    {
     "cell_type": "code",
     "collapsed": false,
     "input": [
      "def goat_door(prizedoors, guesses):\n",
      "    options = [0,1,2]\n",
      "    goat = []\n",
      "    for x in np.nditer(prizedoors):\n",
      "        for y in np.nditer(prizedoors):\n",
      "            if x == y:\n",
      "                newlist = [0,1,2]\n",
      "                #print x\n",
      "                newlist.remove(x)\n",
      "                #print newlist\n",
      "                #print random.choice(newlist)\n",
      "                rand = random.choice(newlist)\n",
      "                #print rand\n",
      "                goat.append(random.choice(newlist))\n",
      "            if x != y:\n",
      "                newlist = [0,1,2]\n",
      "                newlist.remove(x)\n",
      "                newlist.remove(y)\n",
      "                rand = np.array(random.choice(newlist))\n",
      "                goat.append(random.choice(newlist))\n",
      "            #print goat\n",
      "    return goat"
     ],
     "language": "python",
     "metadata": {},
     "outputs": [],
     "prompt_number": 300
    },
    {
     "cell_type": "code",
     "collapsed": false,
     "input": [
      "nsim = 5\n",
      "prizedoors = simulate_prizedoor(nsim)\n",
      "guesses = simulate_guesses(nsim)\n",
      "goatdoors = goat_door(first, second)"
     ],
     "language": "python",
     "metadata": {},
     "outputs": [],
     "prompt_number": 301
    },
    {
     "cell_type": "code",
     "collapsed": false,
     "input": [
      "print second"
     ],
     "language": "python",
     "metadata": {},
     "outputs": [
      {
       "output_type": "stream",
       "stream": "stdout",
       "text": [
        "[1 2 1 2 0]\n"
       ]
      }
     ],
     "prompt_number": 302
    },
    {
     "cell_type": "code",
     "collapsed": false,
     "input": [
      "print third"
     ],
     "language": "python",
     "metadata": {},
     "outputs": [
      {
       "output_type": "stream",
       "stream": "stdout",
       "text": [
        "[0, 0, 1, 1, 1, 0, 0, 2, 2, 2, 1, 2, 2, 2, 1, 1, 2, 1, 2, 2, 1, 2, 1, 2, 2]\n"
       ]
      }
     ],
     "prompt_number": 303
    },
    {
     "cell_type": "code",
     "collapsed": false,
     "input": [
      "def switch_guess(guesses, goat_door):\n",
      "    options = [0,1,2]\n",
      "    switch_guess = []\n",
      "    for x, y in zip(guesses, goat_door):\n",
      "        if(True):\n",
      "            a = [item for item in options if item!=x and item!=y]\n",
      "            switch_guess.append(a[0])\n",
      "    return switch_guess"
     ],
     "language": "python",
     "metadata": {},
     "outputs": [],
     "prompt_number": 304
    },
    {
     "cell_type": "code",
     "collapsed": false,
     "input": [
      "switchguess = switch_guess(second, third)"
     ],
     "language": "python",
     "metadata": {},
     "outputs": [],
     "prompt_number": 305
    },
    {
     "cell_type": "code",
     "collapsed": false,
     "input": [
      "print fourth"
     ],
     "language": "python",
     "metadata": {},
     "outputs": [
      {
       "output_type": "stream",
       "stream": "stdout",
       "text": [
        "[2, 1, 0, 0, 2]\n"
       ]
      }
     ],
     "prompt_number": 306
    },
    {
     "cell_type": "code",
     "collapsed": false,
     "input": [
      "def win_percentage(guesses, prizedoors):\n",
      "    wins = 0\n",
      "    total = 0\n",
      "    for x, y in zip(guesses, prizedoors):\n",
      "        if x == y:\n",
      "            wins +=1\n",
      "            total+=1\n",
      "        else:\n",
      "            total +=1\n",
      "    percentage = (wins/total) * 100\n",
      "    #print wins\n",
      "    return percentage\n",
      "            "
     ],
     "language": "python",
     "metadata": {},
     "outputs": [],
     "prompt_number": 307
    },
    {
     "cell_type": "code",
     "collapsed": false,
     "input": [
      "print guesses\n",
      "print prizedoors\n",
      "print switchguess"
     ],
     "language": "python",
     "metadata": {},
     "outputs": [
      {
       "output_type": "stream",
       "stream": "stdout",
       "text": [
        "[2 2 1 0 2]\n",
        "[0 2 0 2 1]\n",
        "[2, 1, 0, 0, 2]\n"
       ]
      }
     ],
     "prompt_number": 308
    },
    {
     "cell_type": "code",
     "collapsed": false,
     "input": [
      "print win_percentage(guesses, prizedoors)"
     ],
     "language": "python",
     "metadata": {},
     "outputs": [
      {
       "output_type": "stream",
       "stream": "stdout",
       "text": [
        "20.0\n"
       ]
      }
     ],
     "prompt_number": 309
    },
    {
     "cell_type": "code",
     "collapsed": false,
     "input": [
      "def simulate(tries):\n",
      "    nsim = tries\n",
      "    prizedoors = simulate_prizedoor(nsim)\n",
      "    guesses = simulate_guesses(nsim)\n",
      "    goatdoors = goat_door(prizedoors, guesses)\n",
      "    switchguess = switch_guess(guesses, goatdoors)\n",
      "    return win_percentage(guesses, prizedoors), win_percentage(switchguess, prizedoors)#\"If you kept your guess, your win percentage would be %r\" % win_percentage(guesses, prizedoors)\n",
      "    # \"If you switched your guess, your win percentage would be %r\" % win_percentage(switchguess, prizedoors)"
     ],
     "language": "python",
     "metadata": {},
     "outputs": [],
     "prompt_number": 329
    },
    {
     "cell_type": "code",
     "collapsed": false,
     "input": [
      "print simulate(500)"
     ],
     "language": "python",
     "metadata": {},
     "outputs": [
      {
       "output_type": "stream",
       "stream": "stdout",
       "text": [
        "(32.800000000000004, 58.199999999999996)\n"
       ]
      }
     ],
     "prompt_number": 330
    },
    {
     "cell_type": "code",
     "collapsed": false,
     "input": [
      "def simulate_plot(number):\n",
      "    i = 1\n",
      "    win_percent_kept = []\n",
      "    win_percent_switched = []\n",
      "    while (i<=number):\n",
      "        kept, switched = simulate(i)\n",
      "        win_percent_kept.append(kept)\n",
      "        win_percent_switched.append(switched)\n",
      "        i+=1\n",
      "    return win_percent_kept, win_percent_switched, number\n",
      "        "
     ],
     "language": "python",
     "metadata": {},
     "outputs": [],
     "prompt_number": 333
    },
    {
     "cell_type": "code",
     "collapsed": false,
     "input": [
      "win_percent_kept, win_percent_switched, number = simulate_plot(200)"
     ],
     "language": "python",
     "metadata": {},
     "outputs": []
    },
    {
     "cell_type": "code",
     "collapsed": false,
     "input": [
      "plt.figure(figsize=(20,3))\n",
      "plt.plot(np.arange(1,number+1,1), win_percent_kept, color='r', label='Kept Guesses')\n",
      "plt.plot(np.arange(1,number+1,1), win_percent_switched, color='b', label='Switched Guesses')\n",
      "plt.xlabel('Trials')\n",
      "plt.ylabel('Percent of Correct Guesses')\n",
      "plt.legend(loc='best')\n",
      "plt.show()"
     ],
     "language": "python",
     "metadata": {},
     "outputs": []
    },
    {
     "cell_type": "code",
     "collapsed": false,
     "input": [],
     "language": "python",
     "metadata": {},
     "outputs": [],
     "prompt_number": 358
    },
    {
     "cell_type": "code",
     "collapsed": false,
     "input": [],
     "language": "python",
     "metadata": {},
     "outputs": []
    }
   ],
   "metadata": {}
  }
 ]
}