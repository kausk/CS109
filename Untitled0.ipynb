{
 "metadata": {
  "name": "",
  "signature": "sha256:b69e39e9ef04bf226ab88511aad121484260d4ec2abcfa089c357f1ea0d7b121"
 },
 "nbformat": 3,
 "nbformat_minor": 0,
 "worksheets": []
}